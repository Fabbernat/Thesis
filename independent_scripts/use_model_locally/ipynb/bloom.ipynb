{
 "cells": [
  {
   "cell_type": "code",
   "id": "initial_id",
   "metadata": {
    "collapsed": true,
    "ExecuteTime": {
     "end_time": "2025-04-22T23:16:15.492248Z",
     "start_time": "2025-04-22T23:15:53.489581Z"
    }
   },
   "source": [
    "from transformers import BloomConfig, BloomModel\n",
    "\n",
    "# Initializing a Bloom configuration\n",
    "configuration = BloomConfig()\n",
    "\n",
    "# Initializing a model (with random weights) from the configuration\n",
    "model = BloomModel(configuration)\n",
    "\n",
    "# Accessing the model configuration\n",
    "configuration = model.config"
   ],
   "outputs": [
    {
     "name": "stderr",
     "output_type": "stream",
     "text": [
      "C:\\Users\\Bernát\\AppData\\Local\\Packages\\PythonSoftwareFoundation.Python.3.13_qbz5n2kfra8p0\\LocalCache\\local-packages\\Python313\\site-packages\\tqdm\\auto.py:21: TqdmWarning: IProgress not found. Please update jupyter and ipywidgets. See https://ipywidgets.readthedocs.io/en/stable/user_install.html\n",
      "  from .autonotebook import tqdm as notebook_tqdm\n"
     ]
    }
   ],
   "execution_count": 1
  },
  {
   "metadata": {
    "ExecuteTime": {
     "end_time": "2025-04-22T23:16:17.527989Z",
     "start_time": "2025-04-22T23:16:15.643349Z"
    }
   },
   "cell_type": "code",
   "source": [
    "from transformers import BloomTokenizerFast\n",
    "\n",
    "tokenizer = BloomTokenizerFast.from_pretrained(\"bigscience/bloom\")\n",
    "tokenizer(\"Hello world\")[\"input_ids\"]\n",
    "\n",
    "tokenizer(\" Hello world\")[\"input_ids\"]"
   ],
   "id": "1358d21211c8318a",
   "outputs": [
    {
     "data": {
      "text/plain": [
       "[86153, 8876]"
      ]
     },
     "execution_count": 2,
     "metadata": {},
     "output_type": "execute_result"
    }
   ],
   "execution_count": 2
  },
  {
   "metadata": {
    "ExecuteTime": {
     "end_time": "2025-04-22T23:18:23.783257Z",
     "start_time": "2025-04-22T23:16:17.942140Z"
    }
   },
   "cell_type": "code",
   "source": [
    "from transformers import AutoTokenizer, BloomModel\n",
    "import torch\n",
    "\n",
    "tokenizer = AutoTokenizer.from_pretrained(\"bigscience/bloom-560m\")\n",
    "model = BloomModel.from_pretrained(\"bigscience/bloom-560m\")\n",
    "\n",
    "inputs = tokenizer(\"Hello, my dog is cute\", return_tensors=\"pt\")\n",
    "outputs = model(**inputs)\n",
    "\n",
    "last_hidden_states = outputs.last_hidden_state"
   ],
   "id": "e4ec16a0702903cf",
   "outputs": [],
   "execution_count": 3
  },
  {
   "metadata": {
    "ExecuteTime": {
     "end_time": "2025-04-22T23:20:01.309506Z",
     "start_time": "2025-04-22T23:18:32.588662Z"
    }
   },
   "cell_type": "code",
   "source": [
    "import torch\n",
    "from transformers import AutoTokenizer, BloomForCausalLM\n",
    "\n",
    "tokenizer = AutoTokenizer.from_pretrained(\"bigscience/bloom-560m\")\n",
    "model = BloomForCausalLM.from_pretrained(\"bigscience/bloom-560m\")\n",
    "\n",
    "inputs = tokenizer(\"Hello, my dog is cute\", return_tensors=\"pt\")\n",
    "outputs = model(**inputs, labels=inputs[\"input_ids\"])\n",
    "loss = outputs.loss\n",
    "logits = outputs.logits"
   ],
   "id": "6b6d3397c92c777a",
   "outputs": [],
   "execution_count": 4
  },
  {
   "metadata": {},
   "cell_type": "markdown",
   "source": "etc...",
   "id": "f83d4d2006fd36f9"
  },
  {
   "metadata": {
    "ExecuteTime": {
     "end_time": "2025-04-22T23:20:04.763965Z",
     "start_time": "2025-04-22T23:20:04.753005Z"
    }
   },
   "cell_type": "code",
   "source": "",
   "id": "885c62a7ea1dc91a",
   "outputs": [],
   "execution_count": null
  }
 ],
 "metadata": {
  "kernelspec": {
   "display_name": "Python 3",
   "language": "python",
   "name": "python3"
  },
  "language_info": {
   "codemirror_mode": {
    "name": "ipython",
    "version": 2
   },
   "file_extension": ".py",
   "mimetype": "text/x-python",
   "name": "python",
   "nbconvert_exporter": "python",
   "pygments_lexer": "ipython2",
   "version": "2.7.6"
  }
 },
 "nbformat": 4,
 "nbformat_minor": 5
}
