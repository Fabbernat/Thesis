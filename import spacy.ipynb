{
 "cells": [
  {
   "metadata": {
    "ExecuteTime": {
     "end_time": "2025-02-05T13:48:12.887921Z",
     "start_time": "2025-02-05T13:48:10.381897Z"
    }
   },
   "cell_type": "code",
   "source": "import spacy",
   "id": "5d5b2dd180b5ed6b",
   "outputs": [
    {
     "ename": "ModuleNotFoundError",
     "evalue": "No module named 'spacy'",
     "output_type": "error",
     "traceback": [
      "\u001B[1;31m---------------------------------------------------------------------------\u001B[0m",
      "\u001B[1;31mModuleNotFoundError\u001B[0m                       Traceback (most recent call last)",
      "Cell \u001B[1;32mIn[1], line 1\u001B[0m\n\u001B[1;32m----> 1\u001B[0m \u001B[38;5;28;01mimport\u001B[39;00m\u001B[38;5;250m \u001B[39m\u001B[38;5;21;01mspacy\u001B[39;00m\n",
      "\u001B[1;31mModuleNotFoundError\u001B[0m: No module named 'spacy'"
     ]
    }
   ],
   "execution_count": 1
  },
  {
   "metadata": {},
   "cell_type": "code",
   "outputs": [],
   "execution_count": null,
   "source": [
    "\n",
    "sentence[0].vector\n"
   ],
   "id": "325e368e534d3095"
  },
  {
   "metadata": {},
   "cell_type": "code",
   "outputs": [],
   "execution_count": null,
   "source": [
    "\n",
    "nlp =  spacy.load('en_core_web_md')\n"
   ],
   "id": "1b7d86debd37d98d"
  },
  {
   "metadata": {},
   "cell_type": "code",
   "outputs": [],
   "execution_count": null,
   "source": [
    "\n",
    "with open('data/wiki_us.txt', 'r') as f:\n",
    "    text = f.read()\n"
   ],
   "id": "52ec915a67c2b189"
  },
  {
   "metadata": {},
   "cell_type": "code",
   "outputs": [],
   "execution_count": null,
   "source": [
    "doc = nlp(text)\n",
    "sentence1 = list(doc.sents)[0]\n",
    "print(sentence1)"
   ],
   "id": "b3ea175749aa3051"
  },
  {
   "metadata": {
    "ExecuteTime": {
     "end_time": "2025-02-05T13:48:54.621093Z",
     "start_time": "2025-02-05T13:48:53.922553Z"
    }
   },
   "cell_type": "code",
   "source": [
    "your_word = 'country'\n",
    "\n",
    "ms = nlp.vocab.vectors.most_similar([np.asarray([nlp.vocab.strings[your_word]]]), n=10)\n",
    "words = [nlp.vocab.strings[w] for w in ms[0][0]]\n",
    "distances = ms[2]\n",
    "print(words)"
   ],
   "id": "b264e14e89666c56",
   "outputs": [
    {
     "ename": "SyntaxError",
     "evalue": "closing parenthesis ']' does not match opening parenthesis '(' (1220618788.py, line 3)",
     "output_type": "error",
     "traceback": [
      "\u001B[1;36m  Cell \u001B[1;32mIn[2], line 3\u001B[1;36m\u001B[0m\n\u001B[1;33m    ms = nlp.vocab.vectors.most_similar([np.asarray([nlp.vocab.strings[your_word]]]), n=10)\u001B[0m\n\u001B[1;37m                                                                                  ^\u001B[0m\n\u001B[1;31mSyntaxError\u001B[0m\u001B[1;31m:\u001B[0m closing parenthesis ']' does not match opening parenthesis '('\n"
     ]
    }
   ],
   "execution_count": 2
  },
  {
   "metadata": {},
   "cell_type": "code",
   "outputs": [],
   "execution_count": null,
   "source": [
    "doc1 = nlp('I like salty fries and hamburgers.')\n",
    "doc2 = nlp('Fast food tastes very good.')"
   ],
   "id": "d812937c7d6f5b9"
  },
  {
   "metadata": {},
   "cell_type": "code",
   "outputs": [],
   "execution_count": null,
   "source": "print(doc1, '<=>', doc2, doc1.similarity(doc2))",
   "id": "109db6a25618e386"
  },
  {
   "metadata": {},
   "cell_type": "code",
   "outputs": [],
   "execution_count": null,
   "source": "doc3 = nlp('The Empire State Building is in New York.')",
   "id": "82448f97182d867"
  },
  {
   "metadata": {},
   "cell_type": "code",
   "outputs": [],
   "execution_count": null,
   "source": "print(doc3, '<=>', doc2, doc3.similarity(doc2))",
   "id": "374b3741f1308333"
  }
 ],
 "metadata": {
  "kernelspec": {
   "name": "python3",
   "language": "python",
   "display_name": "Python 3 (ipykernel)"
  }
 },
 "nbformat": 5,
 "nbformat_minor": 9
}
